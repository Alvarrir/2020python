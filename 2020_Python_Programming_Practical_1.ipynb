{
  "nbformat": 4,
  "nbformat_minor": 0,
  "metadata": {
    "colab": {
      "name": "2020 Python Programming Practical 1.ipynb",
      "provenance": [],
      "collapsed_sections": [],
      "include_colab_link": true
    },
    "kernelspec": {
      "name": "python3",
      "display_name": "Python 3"
    }
  },
  "cells": [
    {
      "cell_type": "markdown",
      "metadata": {
        "id": "view-in-github",
        "colab_type": "text"
      },
      "source": [
        "<a href=\"https://colab.research.google.com/github/Alvarrir/2020python/blob/master/2020_Python_Programming_Practical_1.ipynb\" target=\"_parent\"><img src=\"https://colab.research.google.com/assets/colab-badge.svg\" alt=\"Open In Colab\"/></a>"
      ]
    },
    {
      "cell_type": "markdown",
      "metadata": {
        "id": "jp3BkDml8xiR",
        "colab_type": "text"
      },
      "source": [
        "# **2020 Python Programming Practical 1**\n",
        "\n",
        "If you do not have one already, create a [GitHub](https://github.com) account using your DHS Mail.\n",
        "\n",
        "Create a public repository 2020python\n",
        "\n",
        "File --> Save a copy in GitHub under this repository\n",
        "\n",
        "Share with edit access with computing@dhs.sg\n",
        "\n",
        "\n",
        "For the following questions,\n",
        "\n",
        "*   standard input: keyboard\n",
        "*   standard output: screen\n",
        "\n"
      ]
    },
    {
      "cell_type": "markdown",
      "metadata": {
        "id": "-U8w0oQW9P_b",
        "colab_type": "text"
      },
      "source": [
        "**Q1. (Converting Fahrenheit to Celsius)**\n",
        "\n",
        "Write a program that reads a Fahrenheit degree as a float from standard input, then converts it to Celsius and displays the result in standard output. The formula for the conversion is:\n",
        "```\n",
        "celsius = (5/9) * (fahrenheit - 32)\n",
        "```"
      ]
    },
    {
      "cell_type": "code",
      "metadata": {
        "id": "D0uTR7B-8qbF",
        "colab_type": "code",
        "colab": {}
      },
      "source": [
        "#float input\n",
        "\n",
        "fahrenheit = float(input(\"Enter Temperature in \\u00b0F: \"))\n",
        "\n",
        "#math\n",
        "\n",
        "celsius = (5/9) * (fahrenheit - 32)\n",
        "\n",
        "#output\n",
        "\n",
        "print(\"Temperauture is\", f\"{celsius:.1f}\\u00b0C\")"
      ],
      "execution_count": 0,
      "outputs": []
    },
    {
      "cell_type": "markdown",
      "metadata": {
        "id": "7Ui5CuS_9Za1",
        "colab_type": "text"
      },
      "source": [
        "**Q2. (Computing the volume of a cylinder)**\n",
        "\n",
        "Write a program that reads in the radius and length of a cylinder and computes its volume using the formulae:\n",
        "```\n",
        "area = radius * radius * pi\n",
        "volume = area * length\n",
        "```\n",
        "\n",
        "\n"
      ]
    },
    {
      "cell_type": "code",
      "metadata": {
        "id": "CfkRAAWV9cXS",
        "colab_type": "code",
        "colab": {}
      },
      "source": [
        "#cos we need pi\n",
        "\n",
        "import math\n",
        "\n",
        "#asking for input to change units\n",
        "\n",
        "unitschoices = (\"m\", \"cm\")\n",
        "\n",
        "unitschoice = str(input(\"What Units do you want to use? (m/cm) \"))\n",
        "\n",
        "if unitschoice not in unitschoices:\n",
        "\n",
        "  print(\"Please enter correctly\")\n",
        "\n",
        "else:\n",
        "\n",
        "#inputs in float\n",
        "\n",
        "  radius = float(input(\"Enter the radius of the cylinder: \"))\n",
        "\n",
        "  length = float(input(\"Enter the length of of the cylinder: \"))\n",
        "\n",
        "#more math\n",
        "\n",
        "  area = radius * radius * math.pi\n",
        "\n",
        "  volume = area * length\n",
        "\n",
        "#ouput\n",
        "\n",
        "  print(\"Volume of the cylinder is\", f\"{volume:.2f}\" + unitschoice +\"\\u00b3\")"
      ],
      "execution_count": 0,
      "outputs": []
    },
    {
      "cell_type": "markdown",
      "metadata": {
        "id": "aVhHiT8w9c7d",
        "colab_type": "text"
      },
      "source": [
        "**Q3. (Converting miles into kilometers)**\n",
        "\n",
        "Write a program that reads a number in miles, converts it to kilometres, and outputs the result. One mile is 1.60934 kilometres. Display your answer correct to 3 decimal places."
      ]
    },
    {
      "cell_type": "code",
      "metadata": {
        "id": "PwRmweEa9fny",
        "colab_type": "code",
        "colab": {}
      },
      "source": [
        "#float input\n",
        "\n",
        "miles = float(input(\"Enter distance in mi: \"))\n",
        "\n",
        "#calculation\n",
        "\n",
        "kilometres = miles * 1.60934\n",
        "\n",
        "#output\n",
        "\n",
        "print(\"Distance is\", f\"{kilometres:.3f}m\")"
      ],
      "execution_count": 0,
      "outputs": []
    },
    {
      "cell_type": "markdown",
      "metadata": {
        "id": "GwAIqQNY9gFd",
        "colab_type": "text"
      },
      "source": [
        "**Q4. (Summing the digits in an integer)**\n",
        "\n",
        "Write a program that reads an integer between 0 and 1000 and adds all the digits in the integer. For example, if an integer is 932, the sum of all its digits is 14.\n",
        "\n",
        "Hint: Use the % operator to extract digits, and use the // operator to remove the extracted digit. For instance, 932 % 10 = 2 and 932 // 10 = 93"
      ]
    },
    {
      "cell_type": "code",
      "metadata": {
        "id": "aOozTwoR9j9B",
        "colab_type": "code",
        "colab": {}
      },
      "source": [
        "#int input\n",
        "\n",
        "someinteger = int(input(\"Enter an integer between 0 and 1000(i.e. does not include 0 and 1000): \"))\n",
        "\n",
        "#check for between 0 and 1000\n",
        "\n",
        "if 0 < some_integer < 1000:\n",
        "\n",
        "#math time\n",
        "\n",
        "  d1 = some_integer % 10\n",
        "\n",
        "  r1 = some_integer // 10\n",
        "\n",
        "  d2 = r1 % 10\n",
        "\n",
        "  r2 = r1 //10\n",
        "\n",
        "  d3 = r2 % 10\n",
        "\n",
        "  r3 = r2 % 10\n",
        "\n",
        "#output\n",
        "\n",
        "  print(d1 + d2 + d3)\n",
        "\n",
        "else:\n",
        "\n",
        "  print(\"Please enter correctly\")"
      ],
      "execution_count": 0,
      "outputs": []
    },
    {
      "cell_type": "markdown",
      "metadata": {
        "id": "lE0ScX9e9kcg",
        "colab_type": "text"
      },
      "source": [
        "**Q5. (Converting an uppercase letter to lowercase)**\n",
        "\n",
        "Write a program that converts an uppercase letter from standard input to a lowercase letter by making use of its ASCII value.\n",
        "\n",
        "http://www.asciitable.com"
      ]
    },
    {
      "cell_type": "code",
      "metadata": {
        "id": "sE_bxwDs9mf6",
        "colab_type": "code",
        "colab": {}
      },
      "source": [
        "#upper case input\n",
        "\n",
        "upper = str(input(\"Enter Uppercase Letter: \"))\n",
        "\n",
        "#conversion to lower case\n",
        "\n",
        "lower = ord(upper) + 32\n",
        "\n",
        "#output\n",
        "\n",
        "print(\"Lowercase Letter:\",chr(lower))"
      ],
      "execution_count": 0,
      "outputs": []
    },
    {
      "cell_type": "markdown",
      "metadata": {
        "id": "KSviQY0T9m7Q",
        "colab_type": "text"
      },
      "source": [
        "**Q6. (Finding the character of an ASCII code)**\n",
        "\n",
        "Write a program that receives an ASCII value (an integer between 0 and 127) and displays its character. For example, if the user enters 97, the program displays character a.\n",
        "\n",
        "http://www.asciitable.com"
      ]
    },
    {
      "cell_type": "code",
      "metadata": {
        "id": "YbH9Pbul9rK-",
        "colab_type": "code",
        "colab": {}
      },
      "source": [
        "#ASCII value input\n",
        "\n",
        "ascii_value = int(input(\"Please enter an ASCII value: \"))\n",
        "\n",
        "#Prevent non-int input\n",
        "\n",
        "if 0 <= ascii_value <= 127:\n",
        "\n",
        "#Conversion to character\n",
        "\n",
        "  character = chr(ascii_value)\n",
        "\n",
        "#Output\n",
        "\n",
        "  print(\"Character corresponding to the ASCII value entered:\",character)\n",
        "\n",
        "else:\n",
        "\n",
        "  print(\"Please enter correctly\")"
      ],
      "execution_count": 0,
      "outputs": []
    },
    {
      "cell_type": "markdown",
      "metadata": {
        "id": "V9Z95nlg97e4",
        "colab_type": "text"
      },
      "source": [
        "**Q7. (Payroll)**\n",
        "\n",
        "Write a program that reads in the following information and prints a payroll statement. A sample input and output session is as follows:\n",
        "\n",
        "Sample input:\n",
        "```\n",
        "Enter name: Lim Ah Seng\n",
        "Enter number of hours worked weekly: 10\n",
        "Enter hourly pay rate: 6.75\n",
        "Enter CPF contribution rate(%): 20\n",
        "```\n",
        "\n",
        "Sample output:\n",
        "```\n",
        "Payroll statement for Lim Ah Seng\n",
        "Number of hours worked in week: 10\n",
        "Hourly pay rate: $6.75\n",
        "Gross pay = $67.50\n",
        "CPF contribution at 20% = $13.50\n",
        "Net pay = $54.00\n",
        "```\n",
        "\n"
      ]
    },
    {
      "cell_type": "code",
      "metadata": {
        "id": "1AZvvAW499PK",
        "colab_type": "code",
        "colab": {}
      },
      "source": [
        "#payroll input\n",
        "\n",
        "name = str(input(\"Enter Name: \"))\n",
        "\n",
        "workhours = int(input(\"Enter Number of Hours Worked Weekly: \"))\n",
        "\n",
        "rate = float(input(\"Enter Hourly Pay Rate: \"))\n",
        "\n",
        "cpf = int(input(\"Enter CPF Contribution Rate: \"))\n",
        "\n",
        "#calculation\n",
        "\n",
        "cpf_decimal = cpf / 100\n",
        "\n",
        "grosspay = workhours * rate\n",
        "\n",
        "cpf_contribution = cpf_decimal * grosspay\n",
        "\n",
        "net_pay = grosspay - cpf_contribution\n",
        "\n",
        "#convert float/int into str so can use \"+\"\n",
        "\n",
        "ratey = str(rate)\n",
        "\n",
        "cpfy = str(cpf)\n",
        "\n",
        "#printing payroll\n",
        "\n",
        "print(\"Payroll Statement for\", name)\n",
        "\n",
        "print(\"Number of Hours Worked in a Week:\", workhours)\n",
        "\n",
        "print(\"Hourly Pay Rate: $\" + ratey)\n",
        "\n",
        "print(\"Gross Pay = $\" + f\"{grosspay:.2f}\")\n",
        "\n",
        "print(\"CPF Contribution at\", cpfy + \"% = $\" + f\"{cpf_contribution:.2f}\")\n",
        "\n",
        "print(\"Net Pay: $\" + f\"{net_pay:.2f}\")"
      ],
      "execution_count": 0,
      "outputs": []
    }
  ]
}