{
  "nbformat": 4,
  "nbformat_minor": 0,
  "metadata": {
    "colab": {
      "name": "2020 Python Programming Practical 2.ipynb",
      "provenance": [],
      "collapsed_sections": [],
      "include_colab_link": true
    },
    "kernelspec": {
      "name": "python3",
      "display_name": "Python 3"
    }
  },
  "cells": [
    {
      "cell_type": "markdown",
      "metadata": {
        "id": "view-in-github",
        "colab_type": "text"
      },
      "source": [
        "<a href=\"https://colab.research.google.com/github/Alvarrir/2020python/blob/master/2020_Python_Programming_Practical_2.ipynb\" target=\"_parent\"><img src=\"https://colab.research.google.com/assets/colab-badge.svg\" alt=\"Open In Colab\"/></a>"
      ]
    },
    {
      "cell_type": "markdown",
      "metadata": {
        "id": "jp3BkDml8xiR",
        "colab_type": "text"
      },
      "source": [
        "# **2020 Python Programming Practical 2**\n",
        "\n",
        "If you do not have one already, create a [GitHub](https://github.com) account using your DHS Mail.\n",
        "\n",
        "Create a public repository 2020python\n",
        "\n",
        "File --> Save a copy in GitHub under your 2020python repository\n",
        "\n",
        "Also share this colab file with edit access with computing@dhs.sg\n",
        "\n"
      ]
    },
    {
      "cell_type": "markdown",
      "metadata": {
        "id": "-U8w0oQW9P_b",
        "colab_type": "text"
      },
      "source": [
        "**Q1. (Check if number is odd or even)**\n",
        "\n",
        "Write a program that reads an integer and checks whether it is odd or even. \n",
        "\n",
        "Sample interaction:\n",
        "```\n",
        "Enter number: 25\n",
        "25 is odd\n",
        "\n",
        "Enter number: 8\n",
        "8 is even\n",
        "\n",
        "```"
      ]
    },
    {
      "cell_type": "code",
      "metadata": {
        "id": "D0uTR7B-8qbF",
        "colab_type": "code",
        "colab": {}
      },
      "source": [
        "while True:\n",
        "  x = int(input(\"Enter number: \"))\n",
        "  if x % 2 == 0:\n",
        "    print(x, \"\"\"is even\n",
        "        \"\"\")\n",
        "  else:\n",
        "    print(x, \"\"\"is odd\n",
        "        \"\"\")"
      ],
      "execution_count": 0,
      "outputs": []
    },
    {
      "cell_type": "markdown",
      "metadata": {
        "id": "7Ui5CuS_9Za1",
        "colab_type": "text"
      },
      "source": [
        "**Q2. (Validate triangles and compute perimeter)**\n",
        "\n",
        "Write a program that reads three edges for a triangle and determines whether the input is valid. The input is valid if the sum of any two edges is greater than the third edge. The program will compute the perimeter of the triangle if the input is valid. Otherwise, display that the input is invalid. \n",
        "\n",
        "Sample interaction:\n",
        "```\n",
        "Enter side 1: 2\n",
        "Enter side 2: 2\n",
        "Enter side 3: 1\n",
        "Perimeter = 5\n",
        "\n",
        "Enter side 1: 1\n",
        "Enter side 2: 2\n",
        "Enter side 3: 1\n",
        "Invalid triangle!\n",
        "\n",
        "```\n",
        "\n",
        "\n"
      ]
    },
    {
      "cell_type": "code",
      "metadata": {
        "id": "CfkRAAWV9cXS",
        "colab_type": "code",
        "colab": {}
      },
      "source": [
        "while True:\n",
        "  x = int(input(\"Enter side 1: \"))\n",
        "  y = int(input(\"Enter side 2: \"))\n",
        "  z = int(input(\"Enter side 3: \"))\n",
        "  if (x + y <= z ) or (y + z <= x) or (z + x <= y):\n",
        "    print(\"\"\"Invalid triangle!\n",
        "      \"\"\")\n",
        "  else:\n",
        "    peri = x + y + z\n",
        "    print(\"Perimeter =\", peri, \"\"\"\n",
        "      \"\"\")"
      ],
      "execution_count": 0,
      "outputs": []
    },
    {
      "cell_type": "markdown",
      "metadata": {
        "id": "aVhHiT8w9c7d",
        "colab_type": "text"
      },
      "source": [
        "**Q3. (Determine grade)**\n",
        "\n",
        "Write a program that prompts the user to enter a score between 0 and 100 inclusive and output the corresponding grade as well as a Pass/Fail status. Output an error message if the entered score in not within the valid range. The grading system is as follows (S and U are not passes):\n",
        "\n",
        "A: 70 - 100  \n",
        "B: 60 - 69  \n",
        "C: 55 - 59  \n",
        "D: 50 - 54  \n",
        "E: 45 - 49  \n",
        "S: 35 - 44  \n",
        "U: 0 - 34\n",
        "\n",
        "Sample interaction:\n",
        "```\n",
        "Enter score: 73\n",
        "A\n",
        "Pass\n",
        "\n",
        "Enter score: 37\n",
        "S\n",
        "Fail\n",
        "\n",
        "Enter Score: -1\n",
        "Invalid! Score must be within 0 - 100.\n",
        "\n",
        "```"
      ]
    },
    {
      "cell_type": "code",
      "metadata": {
        "id": "PwRmweEa9fny",
        "colab_type": "code",
        "colab": {}
      },
      "source": [
        "while True:\n",
        "  score = int(input(\"Enter score: \"))\n",
        "  if score <0 or score > 100:\n",
        "    print(\"Invalid! Score must be within 0 - 100.\")\n",
        "  elif 45 <= score <= 100:\n",
        "    if 70 <= score <= 100:\n",
        "      print(\"A\")\n",
        "    elif 60 <= score <= 69:\n",
        "      print(\"B\")\n",
        "    elif 55 <= score <= 59:\n",
        "      print(\"C\")\n",
        "    elif 50 <= score <= 54:\n",
        "      print('D')\n",
        "    elif 45 <= score <= 49:\n",
        "      print(\"E\")\n",
        "    print(\"\"\"Pass\n",
        "    \"\"\")\n",
        "  else:\n",
        "    if 35 <= score <= 44:\n",
        "      print(\"S\")\n",
        "    else:\n",
        "      print(\"U\")\n",
        "    print(\"\"\"Fail\n",
        "    \"\"\")"
      ],
      "execution_count": 0,
      "outputs": []
    },
    {
      "cell_type": "markdown",
      "metadata": {
        "id": "GwAIqQNY9gFd",
        "colab_type": "text"
      },
      "source": [
        "**Q4. (Determine leap year)**\n",
        "\n",
        "Write a program that prompts the user to enter a year and determines whether it is a leap year. A year is a leap year if it is divisible by 4 but not 100, or is divisible by 400. \n",
        "\n",
        "Sample interaction:\n",
        "```\n",
        "Enter year: 2020\n",
        "Leap\n",
        "\n",
        "Enter year: 2019\n",
        "Non-Leap\n",
        "```"
      ]
    },
    {
      "cell_type": "code",
      "metadata": {
        "id": "aOozTwoR9j9B",
        "colab_type": "code",
        "colab": {}
      },
      "source": [
        "year = int(input(\"Enter year: \"))\n",
        "if year % 4 == 0 and year % 100 != 0 or year % 400 == 0:\n",
        "  print(\"Leap\")\n",
        "else:\n",
        "  print(\"Non-Leap\")\n"
      ],
      "execution_count": 0,
      "outputs": []
    },
    {
      "cell_type": "markdown",
      "metadata": {
        "id": "lE0ScX9e9kcg",
        "colab_type": "text"
      },
      "source": [
        "**Q5. (Find number of days in a month)**\n",
        "\n",
        "Write a program that prompts the user to enter the month and year, and displays the number of days in the month. Sample interaction:\n",
        "```\n",
        "Enter month: 2\n",
        "Enter year: 2020\n",
        "February 2020 has 29 days.\n",
        "\n",
        "Enter month: 3\n",
        "Enter year: 2021\n",
        "March 2021 has 31 days.\n",
        "\n",
        "```"
      ]
    },
    {
      "cell_type": "code",
      "metadata": {
        "id": "sE_bxwDs9mf6",
        "colab_type": "code",
        "colab": {}
      },
      "source": [
        "while True:\n",
        "  month = int(input(\"Enter month: \"))\n",
        "  year = int(input(\"Enter year: \"))\n",
        "  if year % 4 == 0 and year % 100 != 0 or year % 400 == 0:\n",
        "    x = 29\n",
        "  else:\n",
        "    x = 28\n",
        "  months = [\"January\", \"February\", \"March\", \"April\", \"May\", \"June\", \"July\", \"August\", \"September\", \"October\", \"November\", \"December\"]\n",
        "  days = [31, x, 31, 30, 31, 30, 31, 31, 30, 31, 30, 31]\n",
        "  print(months[month-1], year, \"has\", days[month-1], \"\"\"days.\n",
        "  \"\"\")"
      ],
      "execution_count": 0,
      "outputs": []
    },
    {
      "cell_type": "markdown",
      "metadata": {
        "id": "KSviQY0T9m7Q",
        "colab_type": "text"
      },
      "source": [
        "**Q6. (Convert from kilograms to pounds)**\n",
        "\n",
        "Write a program that displays the following table (1 kilogram = 2.2 pounds):\n",
        "```\n",
        "Kilograms Pounds\n",
        "1         2.2\n",
        "2         4.4\n",
        "3         6.6\n",
        "...\n",
        "9         19.8\n",
        "10        22.0\n",
        "```"
      ]
    },
    {
      "cell_type": "code",
      "metadata": {
        "id": "YbH9Pbul9rK-",
        "colab_type": "code",
        "colab": {}
      },
      "source": [
        "headings = print(\"Kilograms Pounds\")\n",
        "for i in range(1,11):\n",
        "  print('{:<9}'.format(i), f\"{i*2.2:.1f}\")"
      ],
      "execution_count": 0,
      "outputs": []
    },
    {
      "cell_type": "markdown",
      "metadata": {
        "id": "V9Z95nlg97e4",
        "colab_type": "text"
      },
      "source": [
        "**Q7. (Convert from miles to kilometres)**\n",
        "\n",
        "Write a program that displays the following two tables side-by-side (1 mile = 1.609 kilometres):\n",
        "```\n",
        "Miles\tKilometers\tKilometres\tMiles\n",
        "1    \t1.609     \t20        \t12.430\n",
        "2    \t3.218     \t25        \t15.538\n",
        "\n",
        "...\n",
        "9    \t14.481    \t60        \t37.290\n",
        "10   \t16.090    \t65        \t40.398\n",
        "```\n",
        "\n"
      ]
    },
    {
      "cell_type": "code",
      "metadata": {
        "id": "1AZvvAW499PK",
        "colab_type": "code",
        "colab": {}
      },
      "source": [
        "units = print(\"Miles   Kilometres   Kilometres   Miles\")\n",
        "for i in range(1,11):\n",
        "  print('{:<7}'.format(i), '{:<12}'.format(f\"{i*1.609:.3f}\"), '{:<12}'.format(15+i*5), f\"{(15+i*5)/1.609:.3f}\")"
      ],
      "execution_count": 0,
      "outputs": []
    },
    {
      "cell_type": "markdown",
      "metadata": {
        "colab_type": "text",
        "id": "79toYNfyD9XP"
      },
      "source": [
        "**Q8. (Find two highest scores)**\n",
        "\n",
        "Write a program that prompts the user to enter the number of students and each student's name and score, and finally displays the student with the highest score and the student with the second-highest score. Enter up to 5 student records.\n",
        "\n"
      ]
    },
    {
      "cell_type": "code",
      "metadata": {
        "id": "Se5J95IjC9bT",
        "colab_type": "code",
        "colab": {}
      },
      "source": [
        "while True:\n",
        "  highest_name = \"NIL\"\n",
        "  second_name = \"NIL\"\n",
        "  highest_score = 0\n",
        "  second_score = 0\n",
        "  total = 0\n",
        "  numbermuch = int(input(\"Enter Number of Records: \"))\n",
        "  while total != numbermuch:\n",
        "    name = str(input(\"Enter name: \"))\n",
        "    score = int(input(\"Enter score: \"))\n",
        "    total += 1\n",
        "    if highest_score < score:\n",
        "      second_score = highest_score\n",
        "      highest_score = score\n",
        "      second_name = highest_name\n",
        "      highest_name = name\n",
        "    if second_score < score < highest_score:\n",
        "      second_score = score\n",
        "      second_name = name\n",
        "    else: #score < second_score < highest_score:\n",
        "      pass\n",
        "  print(\"Highest Scorer:\", highest_name)\n",
        "  print(\"Score:\", highest_score)\n",
        "  print(\"Second Highest Scorer:\", second_name)\n",
        "  print(\"Score:\", second_score)"
      ],
      "execution_count": 0,
      "outputs": []
    },
    {
      "cell_type": "markdown",
      "metadata": {
        "id": "seLRswd3ED9x",
        "colab_type": "text"
      },
      "source": [
        "**Q9. (Finding the smallest n such that n<sup>2</sup> > 12000)**\n",
        "\n",
        "Use a while loop to find the smallest integer n such that n<sup>2</sup> is greater than 12,000. "
      ]
    },
    {
      "cell_type": "code",
      "metadata": {
        "id": "n_1AS9EREHgQ",
        "colab_type": "code",
        "colab": {}
      },
      "source": [
        "n = 0\n",
        "while n**2 <= 12000:\n",
        "  n += 1\n",
        "print(n)"
      ],
      "execution_count": 0,
      "outputs": []
    },
    {
      "cell_type": "markdown",
      "metadata": {
        "id": "YHyv5TE6EH24",
        "colab_type": "text"
      },
      "source": [
        "**Q10. (Finding the largest n such that n<sup>3</sup> < 12000)** \n",
        "\n",
        "Use a while loop to find the largest integer n such that n<sup>3</sup> is less than 12,000."
      ]
    },
    {
      "cell_type": "code",
      "metadata": {
        "id": "B--GNWkcEKkR",
        "colab_type": "code",
        "colab": {}
      },
      "source": [
        "n = 0\n",
        "while n**3 <= 12000:\n",
        "  n += 1\n",
        "print(n-1)"
      ],
      "execution_count": 0,
      "outputs": []
    },
    {
      "cell_type": "markdown",
      "metadata": {
        "id": "lr8Er0cXEKzY",
        "colab_type": "text"
      },
      "source": [
        "**Q11. (Computing the greatest common divisor)**\n",
        "\n",
        "A solution to find the greatest common divisor of two integers n1 and n2 is as follows:\n",
        "* First find d to be the minimum of n1 and n2\n",
        "* Then check whether d, d-1, … d-2, 2, or 1 is a divisor for both n1 and n2 in this order.\n",
        "* The first such common divisor is the greatest common divisor for n1 and n2. \n",
        "\n",
        "Write a program to implement this solution.  \n",
        "Sample interaction:\n",
        "```\n",
        "Enter n1: 12\n",
        "Enter n2: 18\n",
        "GCD: 6\n",
        "```"
      ]
    },
    {
      "cell_type": "code",
      "metadata": {
        "id": "T8iKWDpgEOSw",
        "colab_type": "code",
        "colab": {}
      },
      "source": [
        "import math\n",
        "n1 = int(input(\"Enter n1: \"))\n",
        "n2 = int(input(\"Enter n2: \"))\n",
        "y = math.gcd(n1, n2)\n",
        "print(\"GCD:\", y)"
      ],
      "execution_count": 0,
      "outputs": []
    },
    {
      "cell_type": "markdown",
      "metadata": {
        "id": "-kojjY6zEOkn",
        "colab_type": "text"
      },
      "source": [
        "**Q12. (Find factors of a positive integer)**\n",
        "\n",
        "Write a program that reads a positive integer > 1 and displays all its factors.   \n",
        "Sample interaction:\n",
        "```\n",
        "Enter n: 120\n",
        "Factors: 2 2 2 3 5 \n",
        "```"
      ]
    },
    {
      "cell_type": "code",
      "metadata": {
        "id": "s3hoL9l5EPjU",
        "colab_type": "code",
        "colab": {}
      },
      "source": [
        "n = int(input(\"Enter n: \"))\n",
        "for i in range(2, n + 1):\n",
        " while n % i == 0:\n",
        "    print(i, end = \" \")\n",
        "    n = n / i "
      ],
      "execution_count": 0,
      "outputs": []
    }
  ]
}